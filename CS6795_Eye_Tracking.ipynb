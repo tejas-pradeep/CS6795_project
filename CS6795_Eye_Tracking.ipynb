{
  "cells": [
    {
      "cell_type": "markdown",
      "metadata": {
        "id": "sLc4AB4j8U03"
      },
      "source": [
        "# Background"
      ]
    },
    {
      "cell_type": "markdown",
      "source": [
        "## Get relevant files from web"
      ],
      "metadata": {
        "id": "TGHsdH_1xdZU"
      }
    },
    {
      "cell_type": "markdown",
      "source": [
        "Instructions for anyone intending to try this notebook:\n",
        "\n",
        "\n",
        "\n",
        "1.   Download the dataset from https://datadryad.org/stash/dataset/doi:10.5061/dryad.9pf75\n",
        "2.   Save the zip file to your Google Drive \n",
        "3.   Put the filepath below:"
      ],
      "metadata": {
        "id": "habKkFuK0p2_"
      }
    },
    {
      "cell_type": "code",
      "source": [
        "dryad_dataset_path = '/content/drive/MyDrive/CS6795_Eye_Tracking/doi_10.5061_dryad.9pf75__v1.zip'"
      ],
      "metadata": {
        "id": "UBsn3dMcxD47"
      },
      "execution_count": 1,
      "outputs": []
    },
    {
      "cell_type": "code",
      "source": [
        "verify_hash = False"
      ],
      "metadata": {
        "id": "ZuPLZrswQ0BW"
      },
      "execution_count": 2,
      "outputs": []
    },
    {
      "cell_type": "markdown",
      "metadata": {
        "id": "FWGWXh33co3X"
      },
      "source": [
        "# Initial setup"
      ]
    },
    {
      "cell_type": "code",
      "source": [
        "import numpy as np\n",
        "random_state = 42\n",
        "np.random.seed(random_state)"
      ],
      "metadata": {
        "id": "-8sa-GEboMbp"
      },
      "execution_count": 3,
      "outputs": []
    },
    {
      "cell_type": "code",
      "execution_count": 4,
      "metadata": {
        "id": "3vPdCqwgcqNf",
        "colab": {
          "base_uri": "https://localhost:8080/"
        },
        "outputId": "55fec8f0-a542-47a3-d15b-c73db32769dc"
      },
      "outputs": [
        {
          "output_type": "stream",
          "name": "stdout",
          "text": [
            "Looking in indexes: https://pypi.org/simple, https://us-python.pkg.dev/colab-wheels/public/simple/\n",
            "Requirement already satisfied: plotly in /usr/local/lib/python3.9/dist-packages (5.13.1)\n",
            "Requirement already satisfied: tenacity>=6.2.0 in /usr/local/lib/python3.9/dist-packages (from plotly) (8.2.2)\n"
          ]
        }
      ],
      "source": [
        "import pandas as pd\n",
        "from PIL import Image\n",
        "from tqdm import tqdm\n",
        "tqdm.pandas()\n",
        "\n",
        "import matplotlib.pyplot as plt\n",
        "import seaborn as sns\n",
        "\n",
        "import os\n",
        "import glob\n",
        "import shutil\n",
        "import zipfile\n",
        "import hashlib\n",
        "\n",
        "\n",
        "%pip install plotly\n",
        "import plotly.express as px\n",
        "import plotly.graph_objs as go"
      ]
    },
    {
      "cell_type": "markdown",
      "metadata": {
        "id": "N_GXaRf2L1uH"
      },
      "source": [
        "## Clone Git repo"
      ]
    },
    {
      "cell_type": "code",
      "execution_count": 5,
      "metadata": {
        "id": "pcsU1pwo7Az6",
        "colab": {
          "base_uri": "https://localhost:8080/"
        },
        "outputId": "2134651d-5699-499a-9bfb-53f1d63dab36"
      },
      "outputs": [
        {
          "output_type": "stream",
          "name": "stdout",
          "text": [
            "/content\n"
          ]
        }
      ],
      "source": [
        "%cd /content/"
      ]
    },
    {
      "cell_type": "code",
      "execution_count": 6,
      "metadata": {
        "id": "R6OOtXiU7N03",
        "colab": {
          "base_uri": "https://localhost:8080/"
        },
        "outputId": "f334c5f2-4a38-4d65-ed54-5c6431a5bd89"
      },
      "outputs": [
        {
          "output_type": "stream",
          "name": "stdout",
          "text": [
            "Cloning into 'extractFixations'...\n",
            "remote: Enumerating objects: 16, done.\u001b[K\n",
            "remote: Total 16 (delta 0), reused 0 (delta 0), pack-reused 16\u001b[K\n",
            "Unpacking objects: 100% (16/16), 5.91 KiB | 1.48 MiB/s, done.\n"
          ]
        }
      ],
      "source": [
        "!git clone https://github.com/szapp/extractFixations"
      ]
    },
    {
      "cell_type": "markdown",
      "metadata": {
        "id": "C1HDIEPFL3Fb"
      },
      "source": [
        "##Mount GDrive"
      ]
    },
    {
      "cell_type": "code",
      "execution_count": 7,
      "metadata": {
        "id": "GqHd4WwL8nKI",
        "colab": {
          "base_uri": "https://localhost:8080/"
        },
        "outputId": "ccbca89b-fba1-4890-8e61-1898247ac10b"
      },
      "outputs": [
        {
          "output_type": "stream",
          "name": "stdout",
          "text": [
            "Mounted at /content/drive\n"
          ]
        }
      ],
      "source": [
        "from google.colab import drive\n",
        "drive.mount('/content/drive')"
      ]
    },
    {
      "cell_type": "markdown",
      "metadata": {
        "id": "qsBFwN1QJmnQ"
      },
      "source": [
        "Let's extract the relevant files from the dataset."
      ]
    },
    {
      "cell_type": "markdown",
      "source": [
        "## Set up dataset locally"
      ],
      "metadata": {
        "id": "rbhssVHv9ThS"
      }
    },
    {
      "cell_type": "markdown",
      "source": [
        "### Copy dataset to local directory"
      ],
      "metadata": {
        "id": "eWAmz0LQ_lQW"
      }
    },
    {
      "cell_type": "markdown",
      "source": [
        "Let's copy the dataset to our local directory. After copying, we will verify that the file copied properly using an MD5 hash check."
      ],
      "metadata": {
        "id": "M17CWcf09kuy"
      }
    },
    {
      "cell_type": "code",
      "source": [
        "# new file copy code using shutil.copyfileobj\n",
        "class TqdmFileWrapper:\n",
        "    def __init__(self, file, progress_bar, md5=None):\n",
        "        self.file = file\n",
        "        self.progress_bar = progress_bar\n",
        "        self.md5 = md5\n",
        "\n",
        "    def read(self, size):\n",
        "        buf = self.file.read(size)\n",
        "        self.progress_bar.update(len(buf))\n",
        "        if self.md5 is not None:\n",
        "            self.md5.update(buf)\n",
        "        return buf\n",
        "\n",
        "    def write(self, buf):\n",
        "        self.file.write(buf)\n",
        "        self.progress_bar.update(len(buf))\n",
        "\n",
        "    def close(self):\n",
        "        self.file.close()\n",
        "\n",
        "src_path = dryad_dataset_path\n",
        "dest_path = '/content/dataset.zip'\n",
        "\n",
        "BLOCK_SIZE = 131072  # 128 KB\n",
        "\n",
        "src_md5 = hashlib.md5()\n",
        "\n",
        "# Downloading and verifying the source file\n",
        "with open(src_path, 'rb') as src_file, open(dest_path, 'wb') as dst_file:\n",
        "    file_size = os.path.getsize(src_path)\n",
        "    with tqdm(total=file_size, unit='B', unit_scale=True, desc='Downloading') as pbar:\n",
        "        wrapped_src_file = TqdmFileWrapper(src_file, pbar, md5=src_md5)\n",
        "        shutil.copyfileobj(wrapped_src_file, dst_file)"
      ],
      "metadata": {
        "id": "62WbB3tS4X69",
        "colab": {
          "base_uri": "https://localhost:8080/"
        },
        "outputId": "d7914404-c9ac-4b79-d9e3-cb8d3066d572"
      },
      "execution_count": 8,
      "outputs": [
        {
          "output_type": "stream",
          "name": "stderr",
          "text": [
            "Downloading: 100%|██████████| 7.50G/7.50G [01:09<00:00, 107MB/s]\n"
          ]
        }
      ]
    },
    {
      "cell_type": "code",
      "source": [
        "if verify_hash:\n",
        "  # Verifying the destination file\n",
        "  dest_md5 = hashlib.md5()\n",
        "  with open(dest_path, 'rb') as dst_file:\n",
        "      file_size = os.path.getsize(dest_path)\n",
        "      with tqdm(total=file_size, unit='B', unit_scale=True, desc='Verifying') as pbar:\n",
        "          wrapped_dst_file = TqdmFileWrapper(dst_file, pbar)\n",
        "          while True:\n",
        "              buf = wrapped_dst_file.read(BLOCK_SIZE)\n",
        "              if not buf:\n",
        "                  break\n",
        "              dest_md5.update(buf)\n",
        "\n",
        "  assert src_md5.hexdigest() == dest_md5.hexdigest(), \"Hash check FAILED. Source and destination files are NOT IDENTICAL!\""
      ],
      "metadata": {
        "id": "v6mMcsSPQS_E"
      },
      "execution_count": 9,
      "outputs": []
    },
    {
      "cell_type": "markdown",
      "source": [
        "Now, let's unzip the dataset files to a local directory."
      ],
      "metadata": {
        "id": "5p7AekII9vHS"
      }
    },
    {
      "cell_type": "code",
      "source": [
        "src_file = '/content/dataset.zip'\n",
        "dest_path = '/content/unzipped'\n",
        "\n",
        "# extract zip to current directory\n",
        "with zipfile.ZipFile(src_file, 'r') as zip_ref:\n",
        "    # zip_ref.extractall()\n",
        "    for zip_info in tqdm(zip_ref.infolist(), desc='Extracting'):\n",
        "        zip_ref.extract(zip_info, dest_path)"
      ],
      "metadata": {
        "id": "xJ708tD8-uDk",
        "colab": {
          "base_uri": "https://localhost:8080/"
        },
        "outputId": "99b8bd21-470a-4e87-e81b-7ae38d719c0a"
      },
      "execution_count": 10,
      "outputs": [
        {
          "output_type": "stream",
          "name": "stderr",
          "text": [
            "Extracting: 100%|██████████| 48/48 [00:55<00:00,  1.15s/it]\n"
          ]
        }
      ]
    },
    {
      "cell_type": "markdown",
      "metadata": {
        "id": "C20whu4OPGsj"
      },
      "source": [
        "### Extract fixations file: etdb_v1.0.hdf5"
      ]
    },
    {
      "cell_type": "code",
      "execution_count": 11,
      "metadata": {
        "id": "bwEsHcoyKEmt",
        "colab": {
          "base_uri": "https://localhost:8080/",
          "height": 38
        },
        "outputId": "b8b80f0a-cc8f-4710-f302-2ac6d41988b4"
      },
      "outputs": [
        {
          "output_type": "execute_result",
          "data": {
            "text/plain": [
              "'/content/extractFixations/data/etdb_v1.0.hdf5'"
            ],
            "application/vnd.google.colaboratory.intrinsic+json": {
              "type": "string"
            }
          },
          "metadata": {},
          "execution_count": 11
        }
      ],
      "source": [
        "source_file = '/content/unzipped/etdb_v1.0.hdf5'\n",
        "destination_folder = '/content/extractFixations/data/'\n",
        "\n",
        "if not os.path.exists(destination_folder):\n",
        "    os.makedirs(destination_folder)\n",
        "\n",
        "shutil.copy(source_file, destination_folder) # copy etdb file"
      ]
    },
    {
      "cell_type": "markdown",
      "metadata": {
        "id": "NPIbNe3fPMlf"
      },
      "source": [
        "### Copy metadata files"
      ]
    },
    {
      "cell_type": "markdown",
      "source": [
        "#### Extract additional metadata zip "
      ],
      "metadata": {
        "id": "blbUjZ1nFA5b"
      }
    },
    {
      "cell_type": "code",
      "source": [
        "def extractSubfolderFromZip(source_file, dest_path, subfolder_name, filetype=None):\n",
        "    print('source_file:', source_file)\n",
        "    with zipfile.ZipFile(source_file, 'r') as zip_ref:\n",
        "        for zip_info in tqdm(zip_ref.infolist()):\n",
        "            # Check if the file/folder starts with the extract folder name\n",
        "            if zip_info.filename.startswith(f'{subfolder_name}/'):\n",
        "                # Check if the file is not a directory and has a non-empty filename\n",
        "                if not zip_info.is_dir() and zip_info.filename:\n",
        "                    # check if file ends with file extension, if applicable\n",
        "                    if filetype is None or zip_info.filename.endswith(f'.{filetype}'):\n",
        "                      # get just the filename & extract to destination\n",
        "                      zip_info.filename = os.path.basename(zip_info.filename)\n",
        "                      zip_ref.extract(zip_info, dest_path)"
      ],
      "metadata": {
        "id": "ThV3q6xpOUGn"
      },
      "execution_count": 12,
      "outputs": []
    },
    {
      "cell_type": "code",
      "execution_count": 13,
      "metadata": {
        "id": "_XIp7CFDKsaY",
        "colab": {
          "base_uri": "https://localhost:8080/"
        },
        "outputId": "331ff975-2317-4b94-bfdc-ab1f8255996a"
      },
      "outputs": [
        {
          "output_type": "stream",
          "name": "stdout",
          "text": [
            "source_file: /content/unzipped/additional_meta.zip\n"
          ]
        },
        {
          "output_type": "stream",
          "name": "stderr",
          "text": [
            "100%|██████████| 28/28 [00:00<00:00, 7436.24it/s]\n"
          ]
        }
      ],
      "source": [
        "source_file = '/content/unzipped/additional_meta.zip'\n",
        "destination_folder = '/content/extractFixations/metadata'\n",
        "\n",
        "if os.path.exists(destination_folder):\n",
        "    print(f'{destination_folder} already exists! Please remove first.')\n",
        "else:\n",
        "    extract_folder_name = \"additional_meta\"\n",
        "    extractSubfolderFromZip(source_file, destination_folder, extract_folder_name, 'csv')"
      ]
    },
    {
      "cell_type": "markdown",
      "source": [
        "#### Copy meta.csv"
      ],
      "metadata": {
        "id": "2r_5ftP9IX2O"
      }
    },
    {
      "cell_type": "code",
      "source": [
        "source_file = '/content/unzipped/meta.csv'\n",
        "shutil.copy(source_file, destination_folder) # copy meta.csv file"
      ],
      "metadata": {
        "id": "QWFUowr2Idi6",
        "colab": {
          "base_uri": "https://localhost:8080/",
          "height": 38
        },
        "outputId": "a7593c68-3b6a-4540-9ab5-70a8a10a6ee7"
      },
      "execution_count": 14,
      "outputs": [
        {
          "output_type": "execute_result",
          "data": {
            "text/plain": [
              "'/content/extractFixations/metadata/meta.csv'"
            ],
            "application/vnd.google.colaboratory.intrinsic+json": {
              "type": "string"
            }
          },
          "metadata": {},
          "execution_count": 14
        }
      ]
    },
    {
      "cell_type": "markdown",
      "metadata": {
        "id": "hWG7rNl4PfNr"
      },
      "source": [
        "## Set up image directories locally"
      ]
    },
    {
      "cell_type": "markdown",
      "source": [
        "The images are stored as zip files in our unpacked dataset directory. Let's extract them to an `imagesets` directory for later reference. "
      ],
      "metadata": {
        "id": "xpFE_0JN-WlU"
      }
    },
    {
      "cell_type": "code",
      "source": [
        "# create imagesets directory\n",
        "destination_folder = f'/content/extractFixations/imagesets/'\n",
        "\n",
        "if not os.path.exists(destination_folder):\n",
        "    os.makedirs(destination_folder)"
      ],
      "metadata": {
        "id": "EftFh8-bMhRE"
      },
      "execution_count": 15,
      "outputs": []
    },
    {
      "cell_type": "markdown",
      "source": [
        "First, let's get a list of the image zip files"
      ],
      "metadata": {
        "id": "XzqG0RgeKEl9"
      }
    },
    {
      "cell_type": "code",
      "source": [
        "source_folder_list = glob.glob('/content/unzipped/Stimuli_*')\n",
        "source_folder_list.sort()\n",
        "\n",
        "source_folder_names = [os.path.basename(filename) for filename in source_folder_list]\n",
        "source_folder_names = [os.path.splitext(filename)[0] for filename in source_folder_names]\n",
        "\n",
        "print('\\n'.join(source_folder_names))"
      ],
      "metadata": {
        "id": "a_yw2_KDKm4Y",
        "colab": {
          "base_uri": "https://localhost:8080/"
        },
        "outputId": "b7d17b7d-4d67-4b0b-c94e-bb3aa744c893"
      },
      "execution_count": 16,
      "outputs": [
        {
          "output_type": "stream",
          "name": "stdout",
          "text": [
            "Stimuli_10\n",
            "Stimuli_11\n",
            "Stimuli_12\n",
            "Stimuli_14\n",
            "Stimuli_15\n",
            "Stimuli_16\n",
            "Stimuli_17\n",
            "Stimuli_18\n",
            "Stimuli_19\n",
            "Stimuli_20\n",
            "Stimuli_21\n",
            "Stimuli_22\n",
            "Stimuli_23\n",
            "Stimuli_24\n",
            "Stimuli_25\n",
            "Stimuli_26\n",
            "Stimuli_27\n",
            "Stimuli_28\n",
            "Stimuli_6\n",
            "Stimuli_7\n",
            "Stimuli_8\n"
          ]
        }
      ]
    },
    {
      "cell_type": "markdown",
      "source": [
        "### Extract image directories"
      ],
      "metadata": {
        "id": "lXWS6nfyNkbz"
      }
    },
    {
      "cell_type": "markdown",
      "source": [
        "Now, let's extract each zip file into a separate subdirectory under `imagesets`."
      ],
      "metadata": {
        "id": "wZFevYwi-udQ"
      }
    },
    {
      "cell_type": "code",
      "execution_count": 17,
      "metadata": {
        "id": "ww1U5nG4Phpk",
        "colab": {
          "base_uri": "https://localhost:8080/"
        },
        "outputId": "a9070868-f61a-4777-cf21-65a4b8e408db"
      },
      "outputs": [
        {
          "output_type": "stream",
          "name": "stdout",
          "text": [
            "extracting Stimuli_10...\n",
            "source_file: /content/unzipped/Stimuli_10.zip\n"
          ]
        },
        {
          "output_type": "stream",
          "name": "stderr",
          "text": [
            "100%|██████████| 122/122 [00:00<00:00, 459.82it/s]\n"
          ]
        },
        {
          "output_type": "stream",
          "name": "stdout",
          "text": [
            "extracting Stimuli_11...\n",
            "source_file: /content/unzipped/Stimuli_11.zip\n"
          ]
        },
        {
          "output_type": "stream",
          "name": "stderr",
          "text": [
            "100%|██████████| 132/132 [00:01<00:00, 118.05it/s]\n"
          ]
        },
        {
          "output_type": "stream",
          "name": "stdout",
          "text": [
            "extracting Stimuli_12...\n",
            "source_file: /content/unzipped/Stimuli_12.zip\n"
          ]
        },
        {
          "output_type": "stream",
          "name": "stderr",
          "text": [
            "100%|██████████| 582/582 [00:01<00:00, 476.90it/s]\n"
          ]
        },
        {
          "output_type": "stream",
          "name": "stdout",
          "text": [
            "extracting Stimuli_14...\n",
            "source_file: /content/unzipped/Stimuli_14.zip\n"
          ]
        },
        {
          "output_type": "stream",
          "name": "stderr",
          "text": [
            "100%|██████████| 1206/1206 [00:00<00:00, 1390.32it/s]\n"
          ]
        },
        {
          "output_type": "stream",
          "name": "stdout",
          "text": [
            "extracting Stimuli_15...\n",
            "source_file: /content/unzipped/Stimuli_15.zip\n"
          ]
        },
        {
          "output_type": "stream",
          "name": "stderr",
          "text": [
            "100%|██████████| 246/246 [00:00<00:00, 584.58it/s]\n"
          ]
        },
        {
          "output_type": "stream",
          "name": "stdout",
          "text": [
            "extracting Stimuli_16...\n",
            "source_file: /content/unzipped/Stimuli_16.zip\n"
          ]
        },
        {
          "output_type": "stream",
          "name": "stderr",
          "text": [
            "100%|██████████| 66/66 [00:00<00:00, 85.49it/s]\n"
          ]
        },
        {
          "output_type": "stream",
          "name": "stdout",
          "text": [
            "extracting Stimuli_17...\n",
            "source_file: /content/unzipped/Stimuli_17.zip\n"
          ]
        },
        {
          "output_type": "stream",
          "name": "stderr",
          "text": [
            "100%|██████████| 246/246 [00:03<00:00, 78.45it/s]\n"
          ]
        },
        {
          "output_type": "stream",
          "name": "stdout",
          "text": [
            "extracting Stimuli_18...\n",
            "source_file: /content/unzipped/Stimuli_18.zip\n"
          ]
        },
        {
          "output_type": "stream",
          "name": "stderr",
          "text": [
            "100%|██████████| 3846/3846 [00:16<00:00, 237.22it/s]\n"
          ]
        },
        {
          "output_type": "stream",
          "name": "stdout",
          "text": [
            "extracting Stimuli_19...\n",
            "source_file: /content/unzipped/Stimuli_19.zip\n"
          ]
        },
        {
          "output_type": "stream",
          "name": "stderr",
          "text": [
            "100%|██████████| 533/533 [00:02<00:00, 182.60it/s]\n"
          ]
        },
        {
          "output_type": "stream",
          "name": "stdout",
          "text": [
            "extracting Stimuli_20...\n",
            "source_file: /content/unzipped/Stimuli_20.zip\n"
          ]
        },
        {
          "output_type": "stream",
          "name": "stderr",
          "text": [
            "100%|██████████| 251/251 [00:03<00:00, 71.37it/s] \n"
          ]
        },
        {
          "output_type": "stream",
          "name": "stdout",
          "text": [
            "extracting Stimuli_21...\n",
            "source_file: /content/unzipped/Stimuli_21.zip\n"
          ]
        },
        {
          "output_type": "stream",
          "name": "stderr",
          "text": [
            "100%|██████████| 70/70 [00:00<00:00, 2812.33it/s]\n"
          ]
        },
        {
          "output_type": "stream",
          "name": "stdout",
          "text": [
            "extracting Stimuli_22...\n",
            "source_file: /content/unzipped/Stimuli_22.zip\n"
          ]
        },
        {
          "output_type": "stream",
          "name": "stderr",
          "text": [
            "100%|██████████| 28/28 [00:00<00:00, 2249.47it/s]\n"
          ]
        },
        {
          "output_type": "stream",
          "name": "stdout",
          "text": [
            "extracting Stimuli_23...\n",
            "source_file: /content/unzipped/Stimuli_23.zip\n"
          ]
        },
        {
          "output_type": "stream",
          "name": "stderr",
          "text": [
            "100%|██████████| 592/592 [00:03<00:00, 166.89it/s]\n"
          ]
        },
        {
          "output_type": "stream",
          "name": "stdout",
          "text": [
            "extracting Stimuli_24...\n",
            "source_file: /content/unzipped/Stimuli_24.zip\n"
          ]
        },
        {
          "output_type": "stream",
          "name": "stderr",
          "text": [
            "100%|██████████| 134/134 [00:00<00:00, 303.95it/s]\n"
          ]
        },
        {
          "output_type": "stream",
          "name": "stdout",
          "text": [
            "extracting Stimuli_25...\n",
            "source_file: /content/unzipped/Stimuli_25.zip\n"
          ]
        },
        {
          "output_type": "stream",
          "name": "stderr",
          "text": [
            "100%|██████████| 134/134 [00:00<00:00, 165.80it/s]\n"
          ]
        },
        {
          "output_type": "stream",
          "name": "stdout",
          "text": [
            "extracting Stimuli_26...\n",
            "source_file: /content/unzipped/Stimuli_26.zip\n"
          ]
        },
        {
          "output_type": "stream",
          "name": "stderr",
          "text": [
            "100%|██████████| 134/134 [00:00<00:00, 974.74it/s]\n"
          ]
        },
        {
          "output_type": "stream",
          "name": "stdout",
          "text": [
            "extracting Stimuli_27...\n",
            "source_file: /content/unzipped/Stimuli_27.zip\n"
          ]
        },
        {
          "output_type": "stream",
          "name": "stderr",
          "text": [
            "100%|██████████| 134/134 [00:00<00:00, 1076.81it/s]\n"
          ]
        },
        {
          "output_type": "stream",
          "name": "stdout",
          "text": [
            "extracting Stimuli_28...\n",
            "source_file: /content/unzipped/Stimuli_28.zip\n"
          ]
        },
        {
          "output_type": "stream",
          "name": "stderr",
          "text": [
            "100%|██████████| 244/244 [00:02<00:00, 120.84it/s]\n"
          ]
        },
        {
          "output_type": "stream",
          "name": "stdout",
          "text": [
            "extracting Stimuli_6...\n",
            "source_file: /content/unzipped/Stimuli_6.zip\n"
          ]
        },
        {
          "output_type": "stream",
          "name": "stderr",
          "text": [
            "100%|██████████| 186/186 [00:00<00:00, 406.52it/s]\n"
          ]
        },
        {
          "output_type": "stream",
          "name": "stdout",
          "text": [
            "extracting Stimuli_7...\n",
            "source_file: /content/unzipped/Stimuli_7.zip\n"
          ]
        },
        {
          "output_type": "stream",
          "name": "stderr",
          "text": [
            "100%|██████████| 134/134 [00:00<00:00, 147.93it/s]\n"
          ]
        },
        {
          "output_type": "stream",
          "name": "stdout",
          "text": [
            "extracting Stimuli_8...\n",
            "source_file: /content/unzipped/Stimuli_8.zip\n"
          ]
        },
        {
          "output_type": "stream",
          "name": "stderr",
          "text": [
            "100%|██████████| 134/134 [00:00<00:00, 145.61it/s]\n"
          ]
        }
      ],
      "source": [
        "for source_folder_name in source_folder_names:\n",
        "  source_file = f'/content/unzipped/{source_folder_name}.zip'\n",
        "  \n",
        "  print(f'extracting {source_folder_name}...')\n",
        "\n",
        "  dest_dir = os.path.join(destination_folder, source_folder_name)\n",
        "\n",
        "  subfolder_name = source_folder_name.split(\"_\")[1]\n",
        "  # print(subfolder_name)\n",
        "\n",
        "  extractSubfolderFromZip(source_file, dest_dir, subfolder_name)"
      ]
    },
    {
      "cell_type": "markdown",
      "metadata": {
        "id": "mtLG324ZMcD9"
      },
      "source": [
        "# Preprocess data"
      ]
    },
    {
      "cell_type": "markdown",
      "source": [
        "We can now begin preprocessing the data for modeling. "
      ],
      "metadata": {
        "id": "oodb10R1-yh3"
      }
    },
    {
      "cell_type": "markdown",
      "metadata": {
        "id": "CZEJtkgLPWXH"
      },
      "source": [
        "## Load dataset"
      ]
    },
    {
      "cell_type": "markdown",
      "source": [
        "First, let's load our dataset into memory"
      ],
      "metadata": {
        "id": "sxVJ8Cvl-1tj"
      }
    },
    {
      "cell_type": "code",
      "execution_count": 18,
      "metadata": {
        "id": "ZKWYTj857P5S",
        "colab": {
          "base_uri": "https://localhost:8080/"
        },
        "outputId": "0a182360-6cd6-4a27-e10c-67998c599034"
      },
      "outputs": [
        {
          "output_type": "stream",
          "name": "stdout",
          "text": [
            "/content/extractFixations\n"
          ]
        }
      ],
      "source": [
        "%cd /content/extractFixations"
      ]
    },
    {
      "cell_type": "code",
      "execution_count": 19,
      "metadata": {
        "id": "kL50oia97cXl"
      },
      "outputs": [],
      "source": [
        "import fixmat"
      ]
    },
    {
      "cell_type": "markdown",
      "source": [
        "We will loop through each of the provided studies in the dataset and combine them into a single dataframe of fixations."
      ],
      "metadata": {
        "id": "AVMLPT32-_HN"
      }
    },
    {
      "cell_type": "code",
      "source": [
        "db_keys = ['3D', 'AFC', 'APP', 'APPC', 'Age study', 'Baseline', 'Bias', 'Cross Modal', 'Cross Modal 2', 'EEG', 'Face Discrim.', 'Face Learning', 'Filtered', 'Gap', 'Head Fixed', 'Memory I', 'Memory II', 'Monocular', 'Patch', 'Scaled', 'Tactile', 'Webtask', 'Webtask @ School']"
      ],
      "metadata": {
        "id": "Esa8MIysE7Z8"
      },
      "execution_count": 20,
      "outputs": []
    },
    {
      "cell_type": "code",
      "execution_count": 21,
      "metadata": {
        "id": "M-VcjuqizrOe",
        "colab": {
          "base_uri": "https://localhost:8080/",
          "height": 534
        },
        "outputId": "160b30b3-b84f-46c3-b866-a3f23dbe288c"
      },
      "outputs": [
        {
          "output_type": "stream",
          "name": "stderr",
          "text": [
            "loading fixations: 100%|██████████| 23/23 [00:02<00:00, 10.36it/s]\n"
          ]
        },
        {
          "output_type": "stream",
          "name": "stdout",
          "text": [
            "dropping duplicates...\n"
          ]
        },
        {
          "output_type": "display_data",
          "data": {
            "text/plain": [
              "(2826935, 10)"
            ]
          },
          "metadata": {}
        },
        {
          "output_type": "display_data",
          "data": {
            "text/plain": [
              "2730534"
            ]
          },
          "metadata": {}
        },
        {
          "output_type": "display_data",
          "data": {
            "text/plain": [
              "{'3D': array([23]),\n",
              " 'AFC': array([18]),\n",
              " 'APP': array([12]),\n",
              " 'APPC': array([12]),\n",
              " 'Age study': array([ 7, 10, 11,  8]),\n",
              " 'Baseline': array([11,  8,  7, 10]),\n",
              " 'Bias': array([10,  8, 11,  7]),\n",
              " 'Cross Modal': array([19]),\n",
              " 'Cross Modal 2': array([20]),\n",
              " 'EEG': array([14]),\n",
              " 'Face Discrim.': array([21]),\n",
              " 'Face Learning': array([22]),\n",
              " 'Filtered': array([24, 25,  8, 27,  7, 26]),\n",
              " 'Gap': array([7, 8]),\n",
              " 'Head Fixed': array([                   8,                  -10,                   10,\n",
              "        -9223372036854775808]),\n",
              " 'Memory I': array([ 7, 11,  8, 10]),\n",
              " 'Memory II': array([16]),\n",
              " 'Monocular': array([15, 17]),\n",
              " 'Patch': array([18]),\n",
              " 'Scaled': array([28, 17, 15]),\n",
              " 'Tactile': array([14, 10,  8, 11,  7]),\n",
              " 'Webtask': array([6]),\n",
              " 'Webtask @ School': array([6])}"
            ]
          },
          "metadata": {}
        }
      ],
      "source": [
        "combined = pd.DataFrame()\n",
        "categories_dict = {}\n",
        "max_image_dict = {}\n",
        "dataset_num_dict = {}\n",
        "num_rows_should_be = 0\n",
        "\n",
        "for key in tqdm(db_keys, 'loading fixations'):\n",
        "# for key in db_keys:\n",
        "  dataset, meta = fixmat.load('/content/extractFixations/data/etdb_v1.0.hdf5', key)\n",
        "  num_rows_should_be += meta['# Fix.']\n",
        "  # print(f'for key {key}: columns={dataset.columns}')\n",
        "  # print(f\"Num fixations in {key}: {meta['# Fix.']}\")\n",
        "  categories_dict[key] = dataset['category'].unique().astype(int)\n",
        "  max_image_dict[key] = dataset['filenumber'].max()\n",
        "  dataset_num_dict[key] = dataset['dataset_nr'].unique().tolist()\n",
        "  dataset = dataset[['SUBJECTINDEX', 'dataset_nr', 'x', 'y', 'start', 'end', 'category', 'filenumber', 'fix', 'trial']]\n",
        "  # datasets = np.concatenate((datasets, dataset['category'].unique().astype(int)))\n",
        "  combined = pd.concat([combined, dataset], axis=0, ignore_index=True)\n",
        "\n",
        "print('dropping duplicates...')\n",
        "combined = combined.drop_duplicates()\n",
        "\n",
        "display(combined.shape)\n",
        "display(num_rows_should_be)\n",
        "display(categories_dict)\n",
        "# display(max_image_dict)\n",
        "# display(dataset_num_dict)\n"
      ]
    },
    {
      "cell_type": "code",
      "source": [
        "# Create a set of all categories present in the original dictionary\n",
        "categories = set()\n",
        "for dataset_categories in categories_dict.values():\n",
        "    for category in dataset_categories:\n",
        "        categories.add(category)\n",
        "\n",
        "# Create the inverted mapping using a dictionary comprehension\n",
        "inverted_dict = {}\n",
        "for category in categories:\n",
        "    datasets = []\n",
        "    for dataset, dataset_categories in categories_dict.items():\n",
        "        if category in dataset_categories:\n",
        "            datasets.append(dataset)\n",
        "    inverted_dict[category] = datasets\n",
        "\n",
        "# replace values in inverted dict with their corresponding dataset number\n"
      ],
      "metadata": {
        "id": "rQ3waQF-FSs2"
      },
      "execution_count": 22,
      "outputs": []
    },
    {
      "cell_type": "code",
      "source": [
        "def key_merge(dicts):\n",
        "    # First, figure out which keys are present.\n",
        "    keys = set().union(*dicts)\n",
        "    # Build a dict with those keys, using a list comprehension to\n",
        "    # pull the values from the source dicts.\n",
        "    return {\n",
        "        k: [d[k] for d in dicts if k in d]\n",
        "        for k in keys\n",
        "    }\n",
        "# def key_merge(dicts):\n",
        "#     result = {}\n",
        "#     for d in dicts:\n",
        "#         for key, value in d.items():\n",
        "#             result.setdefault(key, []).append(value)\n",
        "#     return result\n",
        "key_merge((max_image_dict, dataset_num_dict))"
      ],
      "metadata": {
        "colab": {
          "base_uri": "https://localhost:8080/"
        },
        "id": "v5IypLaoB_bC",
        "outputId": "2431218e-910d-4858-fed6-ccb70dbcf5c0"
      },
      "execution_count": 23,
      "outputs": [
        {
          "output_type": "execute_result",
          "data": {
            "text/plain": [
              "{'AFC': [1919.0, [2.0]],\n",
              " 'EEG': [600.0, [9.0]],\n",
              " 'Cross Modal': [135, [16.0]],\n",
              " 'Scaled': [119.0, [10.0]],\n",
              " 'Age study': [64.0, [0.0]],\n",
              " 'Tactile': [600.0, [8.0]],\n",
              " 'Face Learning': [10, [19.0]],\n",
              " 'Monocular': [119.0, [12.0]],\n",
              " 'Memory I': [62.0, [4.0]],\n",
              " 'Cross Modal 2': [224, [17.0]],\n",
              " 'Webtask': [89.0, [13.0]],\n",
              " 'Face Discrim.': [32, [18]],\n",
              " 'Filtered': [64.0, [21.0]],\n",
              " 'Patch': [1920.0, [1.0]],\n",
              " '3D': [144, [20.0]],\n",
              " 'APP': [68.0, [6.0]],\n",
              " 'Bias': [64.0, [11.0]],\n",
              " 'Memory II': [30.0, [5.0]],\n",
              " 'Gap': [64.0, [22.0]],\n",
              " 'APPC': [139.0, [7.0]],\n",
              " 'Webtask @ School': [99.0, [14.0]],\n",
              " 'Baseline': [64.0, [3.0]],\n",
              " 'Head Fixed': [64.0, [15.0]]}"
            ]
          },
          "metadata": {},
          "execution_count": 23
        }
      ]
    },
    {
      "cell_type": "code",
      "source": [
        "del dataset"
      ],
      "metadata": {
        "id": "jD2td3bmu6Vx"
      },
      "execution_count": 24,
      "outputs": []
    },
    {
      "cell_type": "code",
      "source": [
        "display(combined)"
      ],
      "metadata": {
        "id": "4cBh9RgyGZ41",
        "colab": {
          "base_uri": "https://localhost:8080/",
          "height": 423
        },
        "outputId": "f3e0eb15-f665-4b8c-c485-858242709719"
      },
      "execution_count": 25,
      "outputs": [
        {
          "output_type": "display_data",
          "data": {
            "text/plain": [
              "         SUBJECTINDEX  dataset_nr            x           y   start     end  \\\n",
              "0                 1.0        20.0   734.606750  506.097168   613.0   833.0   \n",
              "1                 1.0        20.0   836.577698  231.483704   881.0  1165.0   \n",
              "2                 1.0        20.0  1023.959534  396.422333  1209.0  1609.0   \n",
              "3                 1.0        20.0   703.444031  585.581055  1653.0  2101.0   \n",
              "4                 1.0        20.0   424.584930  657.538452  2145.0  2533.0   \n",
              "...               ...         ...          ...         ...     ...     ...   \n",
              "2826930          24.0        14.0   525.896057  528.621033  7311.0  7453.0   \n",
              "2826931          24.0        14.0   385.524994  540.093384  7483.0  7613.0   \n",
              "2826932          24.0        14.0   356.427521  590.236694  7633.0  7785.0   \n",
              "2826933          24.0        14.0   327.603027  587.372192  7801.0  7933.0   \n",
              "2826934          24.0        14.0   330.585144  336.302582  7975.0  8309.0   \n",
              "\n",
              "         category  filenumber   fix  trial  \n",
              "0            23.0        56.0   1.0    1.0  \n",
              "1            23.0        56.0   2.0    1.0  \n",
              "2            23.0        56.0   3.0    1.0  \n",
              "3            23.0        56.0   4.0    1.0  \n",
              "4            23.0        56.0   5.0    1.0  \n",
              "...           ...         ...   ...    ...  \n",
              "2826930       6.0        88.0  27.0   52.0  \n",
              "2826931       6.0        88.0  28.0   52.0  \n",
              "2826932       6.0        88.0  29.0   52.0  \n",
              "2826933       6.0        88.0  30.0   52.0  \n",
              "2826934       6.0        88.0  31.0   52.0  \n",
              "\n",
              "[2826935 rows x 10 columns]"
            ],
            "text/html": [
              "\n",
              "  <div id=\"df-cb275540-c633-42a2-bbaa-d215027502a4\">\n",
              "    <div class=\"colab-df-container\">\n",
              "      <div>\n",
              "<style scoped>\n",
              "    .dataframe tbody tr th:only-of-type {\n",
              "        vertical-align: middle;\n",
              "    }\n",
              "\n",
              "    .dataframe tbody tr th {\n",
              "        vertical-align: top;\n",
              "    }\n",
              "\n",
              "    .dataframe thead th {\n",
              "        text-align: right;\n",
              "    }\n",
              "</style>\n",
              "<table border=\"1\" class=\"dataframe\">\n",
              "  <thead>\n",
              "    <tr style=\"text-align: right;\">\n",
              "      <th></th>\n",
              "      <th>SUBJECTINDEX</th>\n",
              "      <th>dataset_nr</th>\n",
              "      <th>x</th>\n",
              "      <th>y</th>\n",
              "      <th>start</th>\n",
              "      <th>end</th>\n",
              "      <th>category</th>\n",
              "      <th>filenumber</th>\n",
              "      <th>fix</th>\n",
              "      <th>trial</th>\n",
              "    </tr>\n",
              "  </thead>\n",
              "  <tbody>\n",
              "    <tr>\n",
              "      <th>0</th>\n",
              "      <td>1.0</td>\n",
              "      <td>20.0</td>\n",
              "      <td>734.606750</td>\n",
              "      <td>506.097168</td>\n",
              "      <td>613.0</td>\n",
              "      <td>833.0</td>\n",
              "      <td>23.0</td>\n",
              "      <td>56.0</td>\n",
              "      <td>1.0</td>\n",
              "      <td>1.0</td>\n",
              "    </tr>\n",
              "    <tr>\n",
              "      <th>1</th>\n",
              "      <td>1.0</td>\n",
              "      <td>20.0</td>\n",
              "      <td>836.577698</td>\n",
              "      <td>231.483704</td>\n",
              "      <td>881.0</td>\n",
              "      <td>1165.0</td>\n",
              "      <td>23.0</td>\n",
              "      <td>56.0</td>\n",
              "      <td>2.0</td>\n",
              "      <td>1.0</td>\n",
              "    </tr>\n",
              "    <tr>\n",
              "      <th>2</th>\n",
              "      <td>1.0</td>\n",
              "      <td>20.0</td>\n",
              "      <td>1023.959534</td>\n",
              "      <td>396.422333</td>\n",
              "      <td>1209.0</td>\n",
              "      <td>1609.0</td>\n",
              "      <td>23.0</td>\n",
              "      <td>56.0</td>\n",
              "      <td>3.0</td>\n",
              "      <td>1.0</td>\n",
              "    </tr>\n",
              "    <tr>\n",
              "      <th>3</th>\n",
              "      <td>1.0</td>\n",
              "      <td>20.0</td>\n",
              "      <td>703.444031</td>\n",
              "      <td>585.581055</td>\n",
              "      <td>1653.0</td>\n",
              "      <td>2101.0</td>\n",
              "      <td>23.0</td>\n",
              "      <td>56.0</td>\n",
              "      <td>4.0</td>\n",
              "      <td>1.0</td>\n",
              "    </tr>\n",
              "    <tr>\n",
              "      <th>4</th>\n",
              "      <td>1.0</td>\n",
              "      <td>20.0</td>\n",
              "      <td>424.584930</td>\n",
              "      <td>657.538452</td>\n",
              "      <td>2145.0</td>\n",
              "      <td>2533.0</td>\n",
              "      <td>23.0</td>\n",
              "      <td>56.0</td>\n",
              "      <td>5.0</td>\n",
              "      <td>1.0</td>\n",
              "    </tr>\n",
              "    <tr>\n",
              "      <th>...</th>\n",
              "      <td>...</td>\n",
              "      <td>...</td>\n",
              "      <td>...</td>\n",
              "      <td>...</td>\n",
              "      <td>...</td>\n",
              "      <td>...</td>\n",
              "      <td>...</td>\n",
              "      <td>...</td>\n",
              "      <td>...</td>\n",
              "      <td>...</td>\n",
              "    </tr>\n",
              "    <tr>\n",
              "      <th>2826930</th>\n",
              "      <td>24.0</td>\n",
              "      <td>14.0</td>\n",
              "      <td>525.896057</td>\n",
              "      <td>528.621033</td>\n",
              "      <td>7311.0</td>\n",
              "      <td>7453.0</td>\n",
              "      <td>6.0</td>\n",
              "      <td>88.0</td>\n",
              "      <td>27.0</td>\n",
              "      <td>52.0</td>\n",
              "    </tr>\n",
              "    <tr>\n",
              "      <th>2826931</th>\n",
              "      <td>24.0</td>\n",
              "      <td>14.0</td>\n",
              "      <td>385.524994</td>\n",
              "      <td>540.093384</td>\n",
              "      <td>7483.0</td>\n",
              "      <td>7613.0</td>\n",
              "      <td>6.0</td>\n",
              "      <td>88.0</td>\n",
              "      <td>28.0</td>\n",
              "      <td>52.0</td>\n",
              "    </tr>\n",
              "    <tr>\n",
              "      <th>2826932</th>\n",
              "      <td>24.0</td>\n",
              "      <td>14.0</td>\n",
              "      <td>356.427521</td>\n",
              "      <td>590.236694</td>\n",
              "      <td>7633.0</td>\n",
              "      <td>7785.0</td>\n",
              "      <td>6.0</td>\n",
              "      <td>88.0</td>\n",
              "      <td>29.0</td>\n",
              "      <td>52.0</td>\n",
              "    </tr>\n",
              "    <tr>\n",
              "      <th>2826933</th>\n",
              "      <td>24.0</td>\n",
              "      <td>14.0</td>\n",
              "      <td>327.603027</td>\n",
              "      <td>587.372192</td>\n",
              "      <td>7801.0</td>\n",
              "      <td>7933.0</td>\n",
              "      <td>6.0</td>\n",
              "      <td>88.0</td>\n",
              "      <td>30.0</td>\n",
              "      <td>52.0</td>\n",
              "    </tr>\n",
              "    <tr>\n",
              "      <th>2826934</th>\n",
              "      <td>24.0</td>\n",
              "      <td>14.0</td>\n",
              "      <td>330.585144</td>\n",
              "      <td>336.302582</td>\n",
              "      <td>7975.0</td>\n",
              "      <td>8309.0</td>\n",
              "      <td>6.0</td>\n",
              "      <td>88.0</td>\n",
              "      <td>31.0</td>\n",
              "      <td>52.0</td>\n",
              "    </tr>\n",
              "  </tbody>\n",
              "</table>\n",
              "<p>2826935 rows × 10 columns</p>\n",
              "</div>\n",
              "      <button class=\"colab-df-convert\" onclick=\"convertToInteractive('df-cb275540-c633-42a2-bbaa-d215027502a4')\"\n",
              "              title=\"Convert this dataframe to an interactive table.\"\n",
              "              style=\"display:none;\">\n",
              "        \n",
              "  <svg xmlns=\"http://www.w3.org/2000/svg\" height=\"24px\"viewBox=\"0 0 24 24\"\n",
              "       width=\"24px\">\n",
              "    <path d=\"M0 0h24v24H0V0z\" fill=\"none\"/>\n",
              "    <path d=\"M18.56 5.44l.94 2.06.94-2.06 2.06-.94-2.06-.94-.94-2.06-.94 2.06-2.06.94zm-11 1L8.5 8.5l.94-2.06 2.06-.94-2.06-.94L8.5 2.5l-.94 2.06-2.06.94zm10 10l.94 2.06.94-2.06 2.06-.94-2.06-.94-.94-2.06-.94 2.06-2.06.94z\"/><path d=\"M17.41 7.96l-1.37-1.37c-.4-.4-.92-.59-1.43-.59-.52 0-1.04.2-1.43.59L10.3 9.45l-7.72 7.72c-.78.78-.78 2.05 0 2.83L4 21.41c.39.39.9.59 1.41.59.51 0 1.02-.2 1.41-.59l7.78-7.78 2.81-2.81c.8-.78.8-2.07 0-2.86zM5.41 20L4 18.59l7.72-7.72 1.47 1.35L5.41 20z\"/>\n",
              "  </svg>\n",
              "      </button>\n",
              "      \n",
              "  <style>\n",
              "    .colab-df-container {\n",
              "      display:flex;\n",
              "      flex-wrap:wrap;\n",
              "      gap: 12px;\n",
              "    }\n",
              "\n",
              "    .colab-df-convert {\n",
              "      background-color: #E8F0FE;\n",
              "      border: none;\n",
              "      border-radius: 50%;\n",
              "      cursor: pointer;\n",
              "      display: none;\n",
              "      fill: #1967D2;\n",
              "      height: 32px;\n",
              "      padding: 0 0 0 0;\n",
              "      width: 32px;\n",
              "    }\n",
              "\n",
              "    .colab-df-convert:hover {\n",
              "      background-color: #E2EBFA;\n",
              "      box-shadow: 0px 1px 2px rgba(60, 64, 67, 0.3), 0px 1px 3px 1px rgba(60, 64, 67, 0.15);\n",
              "      fill: #174EA6;\n",
              "    }\n",
              "\n",
              "    [theme=dark] .colab-df-convert {\n",
              "      background-color: #3B4455;\n",
              "      fill: #D2E3FC;\n",
              "    }\n",
              "\n",
              "    [theme=dark] .colab-df-convert:hover {\n",
              "      background-color: #434B5C;\n",
              "      box-shadow: 0px 1px 3px 1px rgba(0, 0, 0, 0.15);\n",
              "      filter: drop-shadow(0px 1px 2px rgba(0, 0, 0, 0.3));\n",
              "      fill: #FFFFFF;\n",
              "    }\n",
              "  </style>\n",
              "\n",
              "      <script>\n",
              "        const buttonEl =\n",
              "          document.querySelector('#df-cb275540-c633-42a2-bbaa-d215027502a4 button.colab-df-convert');\n",
              "        buttonEl.style.display =\n",
              "          google.colab.kernel.accessAllowed ? 'block' : 'none';\n",
              "\n",
              "        async function convertToInteractive(key) {\n",
              "          const element = document.querySelector('#df-cb275540-c633-42a2-bbaa-d215027502a4');\n",
              "          const dataTable =\n",
              "            await google.colab.kernel.invokeFunction('convertToInteractive',\n",
              "                                                     [key], {});\n",
              "          if (!dataTable) return;\n",
              "\n",
              "          const docLinkHtml = 'Like what you see? Visit the ' +\n",
              "            '<a target=\"_blank\" href=https://colab.research.google.com/notebooks/data_table.ipynb>data table notebook</a>'\n",
              "            + ' to learn more about interactive tables.';\n",
              "          element.innerHTML = '';\n",
              "          dataTable['output_type'] = 'display_data';\n",
              "          await google.colab.output.renderOutput(dataTable, element);\n",
              "          const docLink = document.createElement('div');\n",
              "          docLink.innerHTML = docLinkHtml;\n",
              "          element.appendChild(docLink);\n",
              "        }\n",
              "      </script>\n",
              "    </div>\n",
              "  </div>\n",
              "  "
            ]
          },
          "metadata": {}
        }
      ]
    },
    {
      "cell_type": "markdown",
      "source": [
        "## Load in images"
      ],
      "metadata": {
        "id": "aglIqj42PqV6"
      }
    },
    {
      "cell_type": "markdown",
      "source": [
        "Now, let's loop through each image directory and save it to memory in a dataframe.\n",
        "\n",
        "We'll ignore any images that cause errors."
      ],
      "metadata": {
        "id": "TGhSgItcQ1Q7"
      }
    },
    {
      "cell_type": "code",
      "source": [
        "def process_images(folder_path):\n",
        "    exceptions = []\n",
        "    total_files = sum(entry.is_file() and entry.name.lower().endswith(('.png', '.jpg')) for entry in os.scandir(folder_path))\n",
        "\n",
        "    with tqdm(total=total_files, desc=f'Processing {folder_name}', position=0, leave=True) as progress_bar:\n",
        "        for entry in os.scandir(folder_path):\n",
        "            if entry.is_file() and entry.name.lower().endswith(('.png', '.jpg')):\n",
        "                image_num = entry.name.split('.')[0]\n",
        "\n",
        "                try:\n",
        "                    image = Image.open(entry.path)\n",
        "                    image_arr = np.array(image)\n",
        "                except:\n",
        "                    exceptions.append(entry.name)\n",
        "                    # print(f\"\\nException! File: {entry.name}\")\n",
        "                    continue\n",
        "\n",
        "                progress_bar.update(1)\n",
        "                yield (image_arr, folder_number, image_num)\n",
        "\n",
        "    if len(exceptions) > 0:\n",
        "        print('\\tFiles with exceptions:', exceptions)\n",
        "\n",
        "\n",
        "imageset_folder = f'/content/extractFixations/imagesets/'\n",
        "image_data = []\n",
        "\n",
        "for folder_name in source_folder_names:\n",
        "    folder_path = os.path.join(imageset_folder, folder_name)\n",
        "    folder_number = folder_name.split('_')[1]\n",
        "    \n",
        "    # print(f'Processing: {folder_name}')\n",
        "    image_data.extend(process_images(folder_path))\n",
        "\n",
        "images_df = pd.DataFrame.from_records(image_data, columns=['image', 'folder_number', 'image_number'])"
      ],
      "metadata": {
        "id": "BYxjK-KT14KM",
        "colab": {
          "base_uri": "https://localhost:8080/"
        },
        "outputId": "313757e9-9f7d-4398-ee3c-839ea4bda8c9"
      },
      "execution_count": 26,
      "outputs": [
        {
          "output_type": "stream",
          "name": "stderr",
          "text": [
            "Processing Stimuli_10: 100%|██████████| 58/58 [00:02<00:00, 21.56it/s]\n",
            "Processing Stimuli_11: 100%|██████████| 63/63 [00:03<00:00, 17.16it/s]\n",
            "Processing Stimuli_12: 100%|██████████| 284/284 [00:12<00:00, 23.08it/s]\n",
            "Processing Stimuli_14: 100%|█████████▉| 598/600 [00:15<00:00, 39.70it/s]\n"
          ]
        },
        {
          "output_type": "stream",
          "name": "stdout",
          "text": [
            "\tFiles with exceptions: ['196.jpg', '565.jpg']\n"
          ]
        },
        {
          "output_type": "stream",
          "name": "stderr",
          "text": [
            "Processing Stimuli_15: 100%|██████████| 120/120 [00:10<00:00, 11.59it/s]\n",
            "Processing Stimuli_16: 100%|██████████| 30/30 [00:05<00:00,  5.33it/s]\n",
            "Processing Stimuli_17: 100%|██████████| 120/120 [00:24<00:00,  4.99it/s]\n",
            "Processing Stimuli_18: 100%|██████████| 1920/1920 [01:11<00:00, 26.76it/s]\n",
            "Processing Stimuli_19: 100%|██████████| 134/134 [00:03<00:00, 38.47it/s]\n",
            "Processing Stimuli_20: 100%|██████████| 48/48 [00:06<00:00,  6.87it/s]\n",
            "Processing Stimuli_21: 100%|██████████| 32/32 [00:00<00:00, 40.92it/s]\n",
            "Processing Stimuli_22: 100%|██████████| 11/11 [00:00<00:00, 47.28it/s]\n",
            "Processing Stimuli_23: 100%|██████████| 144/144 [00:03<00:00, 41.79it/s]\n",
            "Processing Stimuli_24: 100%|██████████| 64/64 [00:04<00:00, 14.70it/s]\n",
            "Processing Stimuli_25: 100%|██████████| 64/64 [00:03<00:00, 16.06it/s]\n",
            "Processing Stimuli_26: 100%|██████████| 64/64 [00:03<00:00, 19.40it/s]\n",
            "Processing Stimuli_27: 100%|██████████| 64/64 [00:02<00:00, 22.18it/s]\n",
            "Processing Stimuli_28: 100%|██████████| 120/120 [00:15<00:00,  7.65it/s]\n",
            "Processing Stimuli_6: 100%|██████████| 90/90 [00:04<00:00, 22.01it/s]\n",
            "Processing Stimuli_7: 100%|██████████| 64/64 [00:03<00:00, 16.84it/s]\n",
            "Processing Stimuli_8: 100%|██████████| 64/64 [00:03<00:00, 16.36it/s]\n"
          ]
        }
      ]
    },
    {
      "cell_type": "code",
      "source": [
        "display(images_df.head())"
      ],
      "metadata": {
        "id": "aHDaPRTApvQ-",
        "colab": {
          "base_uri": "https://localhost:8080/",
          "height": 206
        },
        "outputId": "46780518-5f15-4236-e2ea-5b2c42c2d201"
      },
      "execution_count": 27,
      "outputs": [
        {
          "output_type": "display_data",
          "data": {
            "text/plain": [
              "                                               image folder_number  \\\n",
              "0  [[[86, 98, 187], [86, 99, 187], [86, 100, 187]...            10   \n",
              "1  [[[136, 61, 151], [196, 156, 212], [222, 208, ...            10   \n",
              "2  [[[20, 59, 127], [20, 59, 128], [21, 59, 129],...            10   \n",
              "3  [[[235, 29, 35], [236, 30, 35], [238, 39, 34],...            10   \n",
              "4  [[[0, 0, 0], [0, 0, 0], [0, 0, 0], [0, 0, 0], ...            10   \n",
              "\n",
              "  image_number  \n",
              "0            9  \n",
              "1           33  \n",
              "2           57  \n",
              "3           54  \n",
              "4            7  "
            ],
            "text/html": [
              "\n",
              "  <div id=\"df-0779ad88-83a2-4fba-83a6-68ab870ebda5\">\n",
              "    <div class=\"colab-df-container\">\n",
              "      <div>\n",
              "<style scoped>\n",
              "    .dataframe tbody tr th:only-of-type {\n",
              "        vertical-align: middle;\n",
              "    }\n",
              "\n",
              "    .dataframe tbody tr th {\n",
              "        vertical-align: top;\n",
              "    }\n",
              "\n",
              "    .dataframe thead th {\n",
              "        text-align: right;\n",
              "    }\n",
              "</style>\n",
              "<table border=\"1\" class=\"dataframe\">\n",
              "  <thead>\n",
              "    <tr style=\"text-align: right;\">\n",
              "      <th></th>\n",
              "      <th>image</th>\n",
              "      <th>folder_number</th>\n",
              "      <th>image_number</th>\n",
              "    </tr>\n",
              "  </thead>\n",
              "  <tbody>\n",
              "    <tr>\n",
              "      <th>0</th>\n",
              "      <td>[[[86, 98, 187], [86, 99, 187], [86, 100, 187]...</td>\n",
              "      <td>10</td>\n",
              "      <td>9</td>\n",
              "    </tr>\n",
              "    <tr>\n",
              "      <th>1</th>\n",
              "      <td>[[[136, 61, 151], [196, 156, 212], [222, 208, ...</td>\n",
              "      <td>10</td>\n",
              "      <td>33</td>\n",
              "    </tr>\n",
              "    <tr>\n",
              "      <th>2</th>\n",
              "      <td>[[[20, 59, 127], [20, 59, 128], [21, 59, 129],...</td>\n",
              "      <td>10</td>\n",
              "      <td>57</td>\n",
              "    </tr>\n",
              "    <tr>\n",
              "      <th>3</th>\n",
              "      <td>[[[235, 29, 35], [236, 30, 35], [238, 39, 34],...</td>\n",
              "      <td>10</td>\n",
              "      <td>54</td>\n",
              "    </tr>\n",
              "    <tr>\n",
              "      <th>4</th>\n",
              "      <td>[[[0, 0, 0], [0, 0, 0], [0, 0, 0], [0, 0, 0], ...</td>\n",
              "      <td>10</td>\n",
              "      <td>7</td>\n",
              "    </tr>\n",
              "  </tbody>\n",
              "</table>\n",
              "</div>\n",
              "      <button class=\"colab-df-convert\" onclick=\"convertToInteractive('df-0779ad88-83a2-4fba-83a6-68ab870ebda5')\"\n",
              "              title=\"Convert this dataframe to an interactive table.\"\n",
              "              style=\"display:none;\">\n",
              "        \n",
              "  <svg xmlns=\"http://www.w3.org/2000/svg\" height=\"24px\"viewBox=\"0 0 24 24\"\n",
              "       width=\"24px\">\n",
              "    <path d=\"M0 0h24v24H0V0z\" fill=\"none\"/>\n",
              "    <path d=\"M18.56 5.44l.94 2.06.94-2.06 2.06-.94-2.06-.94-.94-2.06-.94 2.06-2.06.94zm-11 1L8.5 8.5l.94-2.06 2.06-.94-2.06-.94L8.5 2.5l-.94 2.06-2.06.94zm10 10l.94 2.06.94-2.06 2.06-.94-2.06-.94-.94-2.06-.94 2.06-2.06.94z\"/><path d=\"M17.41 7.96l-1.37-1.37c-.4-.4-.92-.59-1.43-.59-.52 0-1.04.2-1.43.59L10.3 9.45l-7.72 7.72c-.78.78-.78 2.05 0 2.83L4 21.41c.39.39.9.59 1.41.59.51 0 1.02-.2 1.41-.59l7.78-7.78 2.81-2.81c.8-.78.8-2.07 0-2.86zM5.41 20L4 18.59l7.72-7.72 1.47 1.35L5.41 20z\"/>\n",
              "  </svg>\n",
              "      </button>\n",
              "      \n",
              "  <style>\n",
              "    .colab-df-container {\n",
              "      display:flex;\n",
              "      flex-wrap:wrap;\n",
              "      gap: 12px;\n",
              "    }\n",
              "\n",
              "    .colab-df-convert {\n",
              "      background-color: #E8F0FE;\n",
              "      border: none;\n",
              "      border-radius: 50%;\n",
              "      cursor: pointer;\n",
              "      display: none;\n",
              "      fill: #1967D2;\n",
              "      height: 32px;\n",
              "      padding: 0 0 0 0;\n",
              "      width: 32px;\n",
              "    }\n",
              "\n",
              "    .colab-df-convert:hover {\n",
              "      background-color: #E2EBFA;\n",
              "      box-shadow: 0px 1px 2px rgba(60, 64, 67, 0.3), 0px 1px 3px 1px rgba(60, 64, 67, 0.15);\n",
              "      fill: #174EA6;\n",
              "    }\n",
              "\n",
              "    [theme=dark] .colab-df-convert {\n",
              "      background-color: #3B4455;\n",
              "      fill: #D2E3FC;\n",
              "    }\n",
              "\n",
              "    [theme=dark] .colab-df-convert:hover {\n",
              "      background-color: #434B5C;\n",
              "      box-shadow: 0px 1px 3px 1px rgba(0, 0, 0, 0.15);\n",
              "      filter: drop-shadow(0px 1px 2px rgba(0, 0, 0, 0.3));\n",
              "      fill: #FFFFFF;\n",
              "    }\n",
              "  </style>\n",
              "\n",
              "      <script>\n",
              "        const buttonEl =\n",
              "          document.querySelector('#df-0779ad88-83a2-4fba-83a6-68ab870ebda5 button.colab-df-convert');\n",
              "        buttonEl.style.display =\n",
              "          google.colab.kernel.accessAllowed ? 'block' : 'none';\n",
              "\n",
              "        async function convertToInteractive(key) {\n",
              "          const element = document.querySelector('#df-0779ad88-83a2-4fba-83a6-68ab870ebda5');\n",
              "          const dataTable =\n",
              "            await google.colab.kernel.invokeFunction('convertToInteractive',\n",
              "                                                     [key], {});\n",
              "          if (!dataTable) return;\n",
              "\n",
              "          const docLinkHtml = 'Like what you see? Visit the ' +\n",
              "            '<a target=\"_blank\" href=https://colab.research.google.com/notebooks/data_table.ipynb>data table notebook</a>'\n",
              "            + ' to learn more about interactive tables.';\n",
              "          element.innerHTML = '';\n",
              "          dataTable['output_type'] = 'display_data';\n",
              "          await google.colab.output.renderOutput(dataTable, element);\n",
              "          const docLink = document.createElement('div');\n",
              "          docLink.innerHTML = docLinkHtml;\n",
              "          element.appendChild(docLink);\n",
              "        }\n",
              "      </script>\n",
              "    </div>\n",
              "  </div>\n",
              "  "
            ]
          },
          "metadata": {}
        }
      ]
    },
    {
      "cell_type": "code",
      "source": [
        "# images_df.to_pickle('/content/images.pkl')\n",
        "# print(os.path.getsize('/content/images.pkl')/ (1024**3))"
      ],
      "metadata": {
        "id": "OIyntuzyzOgh"
      },
      "execution_count": 28,
      "outputs": []
    },
    {
      "cell_type": "code",
      "source": [
        "images_df.sort_values(by=['folder_number', 'image_number'], inplace=True)"
      ],
      "metadata": {
        "id": "sUyRCHLBOvdk"
      },
      "execution_count": 29,
      "outputs": []
    },
    {
      "cell_type": "markdown",
      "source": [
        "### Remove anomalous images"
      ],
      "metadata": {
        "id": "jLvQm8JQTFjP"
      }
    },
    {
      "cell_type": "markdown",
      "source": [
        "Let's identify any images with misshaped dimensions and remove them from our dataset."
      ],
      "metadata": {
        "id": "Clu_h_pcTCkX"
      }
    },
    {
      "cell_type": "code",
      "source": [
        "# images_df[images_df['image'].apply(lambda x: len(x.shape)) != 3]"
      ],
      "metadata": {
        "id": "TnR6kSQ6PaXV"
      },
      "execution_count": 30,
      "outputs": []
    },
    {
      "cell_type": "code",
      "source": [
        "images_df.shape #shape before"
      ],
      "metadata": {
        "id": "bu2WT_2-J-mg",
        "colab": {
          "base_uri": "https://localhost:8080/"
        },
        "outputId": "ebadefa2-5808-45c0-92df-10fafbbbfc04"
      },
      "execution_count": 31,
      "outputs": [
        {
          "output_type": "execute_result",
          "data": {
            "text/plain": [
              "(4156, 3)"
            ]
          },
          "metadata": {},
          "execution_count": 31
        }
      ]
    },
    {
      "cell_type": "code",
      "source": [
        "# drop misshapen images\n",
        "misshapen_images = images_df[images_df['image'].apply(lambda x: len(x.shape)) != 3].index\n",
        "\n",
        "images_df.drop(misshapen_images, inplace=True)"
      ],
      "metadata": {
        "id": "D0n_kAgVAo16"
      },
      "execution_count": 32,
      "outputs": []
    },
    {
      "cell_type": "code",
      "source": [
        "images_df.shape #shape after"
      ],
      "metadata": {
        "id": "-Ityl5YGA7Ji",
        "colab": {
          "base_uri": "https://localhost:8080/"
        },
        "outputId": "779ceb7b-4134-4808-b2c8-a8ab3d870068"
      },
      "execution_count": 33,
      "outputs": [
        {
          "output_type": "execute_result",
          "data": {
            "text/plain": [
              "(4045, 3)"
            ]
          },
          "metadata": {},
          "execution_count": 33
        }
      ]
    },
    {
      "cell_type": "markdown",
      "source": [
        "### Convert folder/image numbers to ints"
      ],
      "metadata": {
        "id": "UXY_O31oJvUh"
      }
    },
    {
      "cell_type": "markdown",
      "source": [
        "Let's convert the folder numbers / image numbers to ints"
      ],
      "metadata": {
        "id": "h4z1bUYlzL-v"
      }
    },
    {
      "cell_type": "code",
      "source": [
        "images_df['folder_number'] = images_df['folder_number'].astype(int)\n",
        "assert images_df['folder_number'].dtype == 'int64', 'Some folder numbers could not be converted to integers'"
      ],
      "metadata": {
        "id": "vGLIgAu6zJFB"
      },
      "execution_count": 34,
      "outputs": []
    },
    {
      "cell_type": "code",
      "source": [
        "images_df['image_number'] = images_df['image_number'].astype(int)\n",
        "assert images_df['image_number'].dtype == 'int64', 'Some image numbers could not be converted to integers'\n"
      ],
      "metadata": {
        "id": "kV5Ag_Brzcyp"
      },
      "execution_count": 35,
      "outputs": []
    },
    {
      "cell_type": "markdown",
      "source": [
        "## Get initial fixation for each image (match images to fixations)"
      ],
      "metadata": {
        "id": "AK66tMo_BBaW"
      }
    },
    {
      "cell_type": "markdown",
      "source": [
        "Now, we will get the corresponding first fixation (of a random subject) for each image. We can add this to our `images_df` dataframe to create a main table matching images to their initial fixations."
      ],
      "metadata": {
        "id": "5wdWJljf_gyG"
      }
    },
    {
      "cell_type": "code",
      "source": [
        "# Function to get a random subject's initial fixation for an image\n",
        "def get_first_fixations_for_image(dataset_number, image_number):\n",
        "    # get all fixations for current dataset number (category) & image number\n",
        "    image_fixations = combined[(combined['category'] == float(dataset_number)) & (combined['filenumber'] == float(image_number))]\n",
        "    if len(image_fixations) == 0:\n",
        "        # No fixation data for this image; return empty x,y coords\n",
        "        return pd.Series({'first_x_fixation': np.nan, 'first_y_fixation': np.nan})\n",
        "    else:\n",
        "        # Get first fixation for each subject\n",
        "        first_idx = image_fixations.groupby('SUBJECTINDEX')['start'].idxmin()\n",
        "        first_fixations = image_fixations.loc[first_idx]\n",
        "        # image_fixations.sort_values(by=['start', 'end', 'SUBJECTINDEX'], inplace=True)\n",
        "        # image_fixations = image_fixations.groupby('SUBJECTINDEX').first()\n",
        "\n",
        "        # for now, return random row from fixations\n",
        "        first_fixation = image_fixations.sample(random_state=random_state).iloc[0]\n",
        "\n",
        "        return pd.Series({'first_x_fixation': first_fixation['x'], 'first_y_fixation': first_fixation['y']})\n",
        "\n",
        "# Adds first fixation's x,y values to every image in images_df\n",
        "images_df = images_df.assign(**images_df.apply(lambda row: get_first_fixations_for_image(row['folder_number'], row['image_number']), axis=1))"
      ],
      "metadata": {
        "id": "1s1fSOQZwK5G"
      },
      "execution_count": 36,
      "outputs": []
    },
    {
      "cell_type": "markdown",
      "source": [
        "### missed matches EDA (temporary)"
      ],
      "metadata": {
        "id": "ZX0l1BX8KSAL"
      }
    },
    {
      "cell_type": "code",
      "source": [
        "# Get 10 random images from the dataset and display them\n",
        "sample_images = images_df.sample(n=10, random_state=random_state)\n",
        "print(sample_images[['folder_number', 'image_number', 'first_x_fixation', 'first_y_fixation']])"
      ],
      "metadata": {
        "id": "pCMWWrhow1vB",
        "colab": {
          "base_uri": "https://localhost:8080/"
        },
        "outputId": "b57634b3-22ba-4020-bcaa-db2cea966b37"
      },
      "execution_count": 37,
      "outputs": [
        {
          "output_type": "stream",
          "name": "stdout",
          "text": [
            "      folder_number  image_number  first_x_fixation  first_y_fixation\n",
            "3738             26             6        410.733093        832.291870\n",
            "396              12            10       1487.665894        854.822571\n",
            "1836             18           483        364.292267        415.947235\n",
            "2219             18            48        339.944550        187.007080\n",
            "3235             19            88        873.826294        134.836761\n",
            "1280             18          1583        520.983276        373.677216\n",
            "2430             18          1775       1072.202515        229.139893\n",
            "2373             18           817        251.902603        439.261932\n",
            "1041             15            44        923.068909        756.396484\n",
            "1150             16             8        793.767578       1050.513916\n"
          ]
        }
      ]
    },
    {
      "cell_type": "markdown",
      "source": [
        "There are a few images that couldn't be matched to initial fixations. \\\n",
        "Let's see how many:"
      ],
      "metadata": {
        "id": "aX0fYwzrOW1Z"
      }
    },
    {
      "cell_type": "code",
      "source": [
        "# Count the number of NaN values in the first_x_fixation and first_y_fixation columns\n",
        "num_nan_x = images_df['first_x_fixation'].isna().sum()\n",
        "num_nan_y = images_df['first_y_fixation'].isna().sum()\n",
        "\n",
        "print(f\"Number of NaN values in first_x_fixation: {num_nan_x}\")\n",
        "print(f\"Number of NaN values in first_y_fixation: {num_nan_y}\")"
      ],
      "metadata": {
        "id": "WQJvvzGOxMx4",
        "colab": {
          "base_uri": "https://localhost:8080/"
        },
        "outputId": "d2be0c38-f873-4536-bebe-c648fb1c147b"
      },
      "execution_count": 38,
      "outputs": [
        {
          "output_type": "stream",
          "name": "stdout",
          "text": [
            "Number of NaN values in first_x_fixation: 144\n",
            "Number of NaN values in first_y_fixation: 144\n"
          ]
        }
      ]
    },
    {
      "cell_type": "code",
      "source": [
        "num_valid_images = images_df.shape[0] - num_nan_x\n",
        "pct_valid_images = num_valid_images / images_df.shape[0] * 100.0\n",
        "print(f'Number of valid images: {num_valid_images} (~{pct_valid_images:0.2f}%)')"
      ],
      "metadata": {
        "id": "VIguJoP8xOWz",
        "colab": {
          "base_uri": "https://localhost:8080/"
        },
        "outputId": "1f9b6f5a-0aee-4abe-ddba-0b0d9abac23f"
      },
      "execution_count": 39,
      "outputs": [
        {
          "output_type": "stream",
          "name": "stdout",
          "text": [
            "Number of valid images: 3901 (~96.44%)\n"
          ]
        }
      ]
    },
    {
      "cell_type": "markdown",
      "source": [
        "Let's look at which rows have NaN fixations."
      ],
      "metadata": {
        "id": "sJYoya17LmzN"
      }
    },
    {
      "cell_type": "code",
      "source": [
        "nan_images = images_df[(images_df['first_x_fixation'].isna()) | (images_df['first_y_fixation'].isna())]"
      ],
      "metadata": {
        "id": "6JBxEslDK3mh"
      },
      "execution_count": 40,
      "outputs": []
    },
    {
      "cell_type": "code",
      "source": [
        "nan_images['folder_number'].unique()"
      ],
      "metadata": {
        "colab": {
          "base_uri": "https://localhost:8080/"
        },
        "id": "_h8BWIgvL1ZQ",
        "outputId": "1b875359-e3f0-4d4b-d15f-b4cebc9155c3"
      },
      "execution_count": 41,
      "outputs": [
        {
          "output_type": "execute_result",
          "data": {
            "text/plain": [
              "array([12, 25, 27])"
            ]
          },
          "metadata": {},
          "execution_count": 41
        }
      ]
    },
    {
      "cell_type": "code",
      "source": [
        "nan_images[nan_images['folder_number'] != 12]"
      ],
      "metadata": {
        "colab": {
          "base_uri": "https://localhost:8080/",
          "height": 551
        },
        "id": "nELyn3PKMAdV",
        "outputId": "d99b57f4-a3eb-439b-eecc-2d95362b4947"
      },
      "execution_count": 42,
      "outputs": [
        {
          "output_type": "execute_result",
          "data": {
            "text/plain": [
              "                                                  image  folder_number  \\\n",
              "3628  [[[150, 148, 154], [148, 148, 152], [152, 154,...             25   \n",
              "3649  [[[172, 143, 108], [170, 145, 124], [177, 150,...             25   \n",
              "3653  [[[131, 124, 131], [141, 136, 143], [115, 117,...             25   \n",
              "3657  [[[101, 110, 106], [101, 113, 108], [88, 104, ...             25   \n",
              "3663  [[[113, 112, 100], [110, 106, 93], [128, 119, ...             25   \n",
              "3654  [[[127, 155, 159], [124, 151, 159], [121, 148,...             25   \n",
              "3645  [[[156, 106, 124], [220, 205, 207], [222, 219,...             25   \n",
              "3656  [[[220, 211, 192], [218, 208, 190], [215, 207,...             25   \n",
              "3756  [[[77, 85, 87], [77, 85, 87], [76, 84, 86], [7...             27   \n",
              "3777  [[[123, 110, 80], [123, 110, 79], [123, 110, 7...             27   \n",
              "3781  [[[178, 174, 162], [178, 175, 163], [178, 175,...             27   \n",
              "3785  [[[117, 87, 64], [117, 89, 66], [118, 91, 68],...             27   \n",
              "3791  [[[113, 102, 89], [114, 103, 90], [115, 104, 9...             27   \n",
              "3782  [[[128, 127, 117], [131, 129, 120], [133, 132,...             27   \n",
              "3773  [[[159, 153, 146], [158, 152, 144], [156, 150,...             27   \n",
              "3784  [[[137, 132, 121], [140, 135, 124], [143, 138,...             27   \n",
              "\n",
              "      image_number  first_x_fixation  first_y_fixation  \n",
              "3628            57               NaN               NaN  \n",
              "3649            58               NaN               NaN  \n",
              "3653            59               NaN               NaN  \n",
              "3657            60               NaN               NaN  \n",
              "3663            61               NaN               NaN  \n",
              "3654            62               NaN               NaN  \n",
              "3645            63               NaN               NaN  \n",
              "3656            64               NaN               NaN  \n",
              "3756            57               NaN               NaN  \n",
              "3777            58               NaN               NaN  \n",
              "3781            59               NaN               NaN  \n",
              "3785            60               NaN               NaN  \n",
              "3791            61               NaN               NaN  \n",
              "3782            62               NaN               NaN  \n",
              "3773            63               NaN               NaN  \n",
              "3784            64               NaN               NaN  "
            ],
            "text/html": [
              "\n",
              "  <div id=\"df-ba8eb671-22d8-478a-98d3-004050830838\">\n",
              "    <div class=\"colab-df-container\">\n",
              "      <div>\n",
              "<style scoped>\n",
              "    .dataframe tbody tr th:only-of-type {\n",
              "        vertical-align: middle;\n",
              "    }\n",
              "\n",
              "    .dataframe tbody tr th {\n",
              "        vertical-align: top;\n",
              "    }\n",
              "\n",
              "    .dataframe thead th {\n",
              "        text-align: right;\n",
              "    }\n",
              "</style>\n",
              "<table border=\"1\" class=\"dataframe\">\n",
              "  <thead>\n",
              "    <tr style=\"text-align: right;\">\n",
              "      <th></th>\n",
              "      <th>image</th>\n",
              "      <th>folder_number</th>\n",
              "      <th>image_number</th>\n",
              "      <th>first_x_fixation</th>\n",
              "      <th>first_y_fixation</th>\n",
              "    </tr>\n",
              "  </thead>\n",
              "  <tbody>\n",
              "    <tr>\n",
              "      <th>3628</th>\n",
              "      <td>[[[150, 148, 154], [148, 148, 152], [152, 154,...</td>\n",
              "      <td>25</td>\n",
              "      <td>57</td>\n",
              "      <td>NaN</td>\n",
              "      <td>NaN</td>\n",
              "    </tr>\n",
              "    <tr>\n",
              "      <th>3649</th>\n",
              "      <td>[[[172, 143, 108], [170, 145, 124], [177, 150,...</td>\n",
              "      <td>25</td>\n",
              "      <td>58</td>\n",
              "      <td>NaN</td>\n",
              "      <td>NaN</td>\n",
              "    </tr>\n",
              "    <tr>\n",
              "      <th>3653</th>\n",
              "      <td>[[[131, 124, 131], [141, 136, 143], [115, 117,...</td>\n",
              "      <td>25</td>\n",
              "      <td>59</td>\n",
              "      <td>NaN</td>\n",
              "      <td>NaN</td>\n",
              "    </tr>\n",
              "    <tr>\n",
              "      <th>3657</th>\n",
              "      <td>[[[101, 110, 106], [101, 113, 108], [88, 104, ...</td>\n",
              "      <td>25</td>\n",
              "      <td>60</td>\n",
              "      <td>NaN</td>\n",
              "      <td>NaN</td>\n",
              "    </tr>\n",
              "    <tr>\n",
              "      <th>3663</th>\n",
              "      <td>[[[113, 112, 100], [110, 106, 93], [128, 119, ...</td>\n",
              "      <td>25</td>\n",
              "      <td>61</td>\n",
              "      <td>NaN</td>\n",
              "      <td>NaN</td>\n",
              "    </tr>\n",
              "    <tr>\n",
              "      <th>3654</th>\n",
              "      <td>[[[127, 155, 159], [124, 151, 159], [121, 148,...</td>\n",
              "      <td>25</td>\n",
              "      <td>62</td>\n",
              "      <td>NaN</td>\n",
              "      <td>NaN</td>\n",
              "    </tr>\n",
              "    <tr>\n",
              "      <th>3645</th>\n",
              "      <td>[[[156, 106, 124], [220, 205, 207], [222, 219,...</td>\n",
              "      <td>25</td>\n",
              "      <td>63</td>\n",
              "      <td>NaN</td>\n",
              "      <td>NaN</td>\n",
              "    </tr>\n",
              "    <tr>\n",
              "      <th>3656</th>\n",
              "      <td>[[[220, 211, 192], [218, 208, 190], [215, 207,...</td>\n",
              "      <td>25</td>\n",
              "      <td>64</td>\n",
              "      <td>NaN</td>\n",
              "      <td>NaN</td>\n",
              "    </tr>\n",
              "    <tr>\n",
              "      <th>3756</th>\n",
              "      <td>[[[77, 85, 87], [77, 85, 87], [76, 84, 86], [7...</td>\n",
              "      <td>27</td>\n",
              "      <td>57</td>\n",
              "      <td>NaN</td>\n",
              "      <td>NaN</td>\n",
              "    </tr>\n",
              "    <tr>\n",
              "      <th>3777</th>\n",
              "      <td>[[[123, 110, 80], [123, 110, 79], [123, 110, 7...</td>\n",
              "      <td>27</td>\n",
              "      <td>58</td>\n",
              "      <td>NaN</td>\n",
              "      <td>NaN</td>\n",
              "    </tr>\n",
              "    <tr>\n",
              "      <th>3781</th>\n",
              "      <td>[[[178, 174, 162], [178, 175, 163], [178, 175,...</td>\n",
              "      <td>27</td>\n",
              "      <td>59</td>\n",
              "      <td>NaN</td>\n",
              "      <td>NaN</td>\n",
              "    </tr>\n",
              "    <tr>\n",
              "      <th>3785</th>\n",
              "      <td>[[[117, 87, 64], [117, 89, 66], [118, 91, 68],...</td>\n",
              "      <td>27</td>\n",
              "      <td>60</td>\n",
              "      <td>NaN</td>\n",
              "      <td>NaN</td>\n",
              "    </tr>\n",
              "    <tr>\n",
              "      <th>3791</th>\n",
              "      <td>[[[113, 102, 89], [114, 103, 90], [115, 104, 9...</td>\n",
              "      <td>27</td>\n",
              "      <td>61</td>\n",
              "      <td>NaN</td>\n",
              "      <td>NaN</td>\n",
              "    </tr>\n",
              "    <tr>\n",
              "      <th>3782</th>\n",
              "      <td>[[[128, 127, 117], [131, 129, 120], [133, 132,...</td>\n",
              "      <td>27</td>\n",
              "      <td>62</td>\n",
              "      <td>NaN</td>\n",
              "      <td>NaN</td>\n",
              "    </tr>\n",
              "    <tr>\n",
              "      <th>3773</th>\n",
              "      <td>[[[159, 153, 146], [158, 152, 144], [156, 150,...</td>\n",
              "      <td>27</td>\n",
              "      <td>63</td>\n",
              "      <td>NaN</td>\n",
              "      <td>NaN</td>\n",
              "    </tr>\n",
              "    <tr>\n",
              "      <th>3784</th>\n",
              "      <td>[[[137, 132, 121], [140, 135, 124], [143, 138,...</td>\n",
              "      <td>27</td>\n",
              "      <td>64</td>\n",
              "      <td>NaN</td>\n",
              "      <td>NaN</td>\n",
              "    </tr>\n",
              "  </tbody>\n",
              "</table>\n",
              "</div>\n",
              "      <button class=\"colab-df-convert\" onclick=\"convertToInteractive('df-ba8eb671-22d8-478a-98d3-004050830838')\"\n",
              "              title=\"Convert this dataframe to an interactive table.\"\n",
              "              style=\"display:none;\">\n",
              "        \n",
              "  <svg xmlns=\"http://www.w3.org/2000/svg\" height=\"24px\"viewBox=\"0 0 24 24\"\n",
              "       width=\"24px\">\n",
              "    <path d=\"M0 0h24v24H0V0z\" fill=\"none\"/>\n",
              "    <path d=\"M18.56 5.44l.94 2.06.94-2.06 2.06-.94-2.06-.94-.94-2.06-.94 2.06-2.06.94zm-11 1L8.5 8.5l.94-2.06 2.06-.94-2.06-.94L8.5 2.5l-.94 2.06-2.06.94zm10 10l.94 2.06.94-2.06 2.06-.94-2.06-.94-.94-2.06-.94 2.06-2.06.94z\"/><path d=\"M17.41 7.96l-1.37-1.37c-.4-.4-.92-.59-1.43-.59-.52 0-1.04.2-1.43.59L10.3 9.45l-7.72 7.72c-.78.78-.78 2.05 0 2.83L4 21.41c.39.39.9.59 1.41.59.51 0 1.02-.2 1.41-.59l7.78-7.78 2.81-2.81c.8-.78.8-2.07 0-2.86zM5.41 20L4 18.59l7.72-7.72 1.47 1.35L5.41 20z\"/>\n",
              "  </svg>\n",
              "      </button>\n",
              "      \n",
              "  <style>\n",
              "    .colab-df-container {\n",
              "      display:flex;\n",
              "      flex-wrap:wrap;\n",
              "      gap: 12px;\n",
              "    }\n",
              "\n",
              "    .colab-df-convert {\n",
              "      background-color: #E8F0FE;\n",
              "      border: none;\n",
              "      border-radius: 50%;\n",
              "      cursor: pointer;\n",
              "      display: none;\n",
              "      fill: #1967D2;\n",
              "      height: 32px;\n",
              "      padding: 0 0 0 0;\n",
              "      width: 32px;\n",
              "    }\n",
              "\n",
              "    .colab-df-convert:hover {\n",
              "      background-color: #E2EBFA;\n",
              "      box-shadow: 0px 1px 2px rgba(60, 64, 67, 0.3), 0px 1px 3px 1px rgba(60, 64, 67, 0.15);\n",
              "      fill: #174EA6;\n",
              "    }\n",
              "\n",
              "    [theme=dark] .colab-df-convert {\n",
              "      background-color: #3B4455;\n",
              "      fill: #D2E3FC;\n",
              "    }\n",
              "\n",
              "    [theme=dark] .colab-df-convert:hover {\n",
              "      background-color: #434B5C;\n",
              "      box-shadow: 0px 1px 3px 1px rgba(0, 0, 0, 0.15);\n",
              "      filter: drop-shadow(0px 1px 2px rgba(0, 0, 0, 0.3));\n",
              "      fill: #FFFFFF;\n",
              "    }\n",
              "  </style>\n",
              "\n",
              "      <script>\n",
              "        const buttonEl =\n",
              "          document.querySelector('#df-ba8eb671-22d8-478a-98d3-004050830838 button.colab-df-convert');\n",
              "        buttonEl.style.display =\n",
              "          google.colab.kernel.accessAllowed ? 'block' : 'none';\n",
              "\n",
              "        async function convertToInteractive(key) {\n",
              "          const element = document.querySelector('#df-ba8eb671-22d8-478a-98d3-004050830838');\n",
              "          const dataTable =\n",
              "            await google.colab.kernel.invokeFunction('convertToInteractive',\n",
              "                                                     [key], {});\n",
              "          if (!dataTable) return;\n",
              "\n",
              "          const docLinkHtml = 'Like what you see? Visit the ' +\n",
              "            '<a target=\"_blank\" href=https://colab.research.google.com/notebooks/data_table.ipynb>data table notebook</a>'\n",
              "            + ' to learn more about interactive tables.';\n",
              "          element.innerHTML = '';\n",
              "          dataTable['output_type'] = 'display_data';\n",
              "          await google.colab.output.renderOutput(dataTable, element);\n",
              "          const docLink = document.createElement('div');\n",
              "          docLink.innerHTML = docLinkHtml;\n",
              "          element.appendChild(docLink);\n",
              "        }\n",
              "      </script>\n",
              "    </div>\n",
              "  </div>\n",
              "  "
            ]
          },
          "metadata": {},
          "execution_count": 42
        }
      ]
    },
    {
      "cell_type": "markdown",
      "source": [
        "Now, let's make a dataframe with just the images that have matching fixations."
      ],
      "metadata": {
        "id": "Sa1rRKBLLwzI"
      }
    },
    {
      "cell_type": "code",
      "source": [
        "images_df = images_df.dropna(subset=['first_x_fixation', 'first_y_fixation'])\n",
        "display(images_df.shape)"
      ],
      "metadata": {
        "id": "m8uqb3HmKh9Z",
        "colab": {
          "base_uri": "https://localhost:8080/",
          "height": 35
        },
        "outputId": "6efb00b3-9ea5-4560-d53a-506098744bf5"
      },
      "execution_count": 43,
      "outputs": [
        {
          "output_type": "display_data",
          "data": {
            "text/plain": [
              "(3901, 5)"
            ]
          },
          "metadata": {}
        }
      ]
    },
    {
      "cell_type": "markdown",
      "source": [
        "## Export image-fixation dataframe to pkl (locally)"
      ],
      "metadata": {
        "id": "EH4744J7Q8Vb"
      }
    },
    {
      "cell_type": "code",
      "source": [
        "image_fixation_filepath = '/content/images_noNaN_v2.pkl'\n",
        "\n",
        "images_df.to_pickle(image_fixation_filepath)\n",
        "\n",
        "print(os.path.getsize(image_fixation_filepath)/ (1024**3))"
      ],
      "metadata": {
        "id": "Mfvh906sQ04m",
        "colab": {
          "base_uri": "https://localhost:8080/"
        },
        "outputId": "d821bb4a-32b1-4b4e-8476-f84a4754797c"
      },
      "execution_count": 44,
      "outputs": [
        {
          "output_type": "stream",
          "name": "stdout",
          "text": [
            "16.455800927244127\n"
          ]
        }
      ]
    },
    {
      "cell_type": "markdown",
      "source": [
        "## Save pkl to Google Drive"
      ],
      "metadata": {
        "id": "BPFutue0Rlyk"
      }
    },
    {
      "cell_type": "code",
      "source": [
        "file_path = image_fixation_filepath\n",
        "drive_path = \"/content/drive/MyDrive/images_noNaN_v2.pkl\"\n",
        "\n",
        "import os\n",
        "if os.path.exists(drive_path):\n",
        "    os.remove(drive_path)\n",
        "# shutil.copyfile(file_path, drive_path)"
      ],
      "metadata": {
        "id": "YQm_quH4Rqx2"
      },
      "execution_count": 45,
      "outputs": []
    },
    {
      "cell_type": "markdown",
      "source": [
        "# Visualizations"
      ],
      "metadata": {
        "id": "Pbg8T4JJPjgm"
      }
    },
    {
      "cell_type": "markdown",
      "source": [
        "Let's see what our data looks like:"
      ],
      "metadata": {
        "id": "Ssacpt_DOp8e"
      }
    },
    {
      "cell_type": "markdown",
      "source": [
        "## Initial fixation heatmap"
      ],
      "metadata": {
        "id": "xXGEHGL4NN_J"
      }
    },
    {
      "cell_type": "code",
      "source": [
        "plt.figure(figsize=(8, 6))\n",
        "\n",
        "sns.kdeplot(\n",
        "    data=images_df,\n",
        "    x=\"first_x_fixation\",\n",
        "    y=\"first_y_fixation\",\n",
        "    fill=True,\n",
        "    cmap=\"rocket\",\n",
        "    thresh=0.05,\n",
        ")\n",
        "\n",
        "\n",
        "plt.xlabel(\"First X Fixation\")\n",
        "plt.ylabel(\"First Y Fixation\")\n",
        "\n",
        "plt.show()"
      ],
      "metadata": {
        "id": "8sNwvSjZMhVx",
        "colab": {
          "base_uri": "https://localhost:8080/",
          "height": 542
        },
        "outputId": "12182d7c-5203-41c6-e60a-bd888c1d88dd"
      },
      "execution_count": 46,
      "outputs": [
        {
          "output_type": "display_data",
          "data": {
            "text/plain": [
              "<Figure size 800x600 with 1 Axes>"
            ],
            "image/png": "[encoded data removed]"
          },
          "metadata": {}
        }
      ]
    },
    {
      "cell_type": "markdown",
      "source": [
        "## Distrib of dataset number"
      ],
      "metadata": {
        "id": "U1_Jjh1aNQND"
      }
    },
    {
      "cell_type": "code",
      "source": [
        "plt.figure(figsize=(8, 6))\n",
        "\n",
        "plt.hist(images_df['folder_number'])\n",
        "\n",
        "plt.xlabel('Dataset Number')\n",
        "plt.ylabel('Frequency')\n",
        "\n",
        "plt.title('Distribution of Dataset Numbers in Original Dataframe')\n",
        "\n",
        "plt.show()"
      ],
      "metadata": {
        "id": "9skde-kLN15D",
        "colab": {
          "base_uri": "https://localhost:8080/",
          "height": 564
        },
        "outputId": "cc031763-6214-4352-fd85-aa88c0d77ae5"
      },
      "execution_count": 47,
      "outputs": [
        {
          "output_type": "display_data",
          "data": {
            "text/plain": [
              "<Figure size 800x600 with 1 Axes>"
            ],
            "image/png": "[encoded data removed]"
          },
          "metadata": {}
        }
      ]
    },
    {
      "cell_type": "code",
      "source": [
        "plt.figure(figsize=(8, 6))\n",
        "\n",
        "plt.hist(images_df['folder_number'])\n",
        "\n",
        "plt.xlabel('Dataset Number')\n",
        "plt.ylabel('Frequency')\n",
        "\n",
        "plt.title('Distribution of Dataset Numbers in Matched Image Dataframe')\n",
        "\n",
        "plt.show()"
      ],
      "metadata": {
        "id": "4T32z41ONZAA",
        "colab": {
          "base_uri": "https://localhost:8080/",
          "height": 564
        },
        "outputId": "2e04c15b-9c39-46b4-ec4a-714516ba61f3"
      },
      "execution_count": 48,
      "outputs": [
        {
          "output_type": "display_data",
          "data": {
            "text/plain": [
              "<Figure size 800x600 with 1 Axes>"
            ],
            "image/png": "[encoded data removed]"
          },
          "metadata": {}
        }
      ]
    }
  ],
  "metadata": {
    "colab": {
      "provenance": [],
      "machine_shape": "hm",
      "toc_visible": true
    },
    "kernelspec": {
      "display_name": "Python 3",
      "name": "python3"
    },
    "language_info": {
      "name": "python"
    },
    "gpuClass": "standard"
  },
  "nbformat": 4,
  "nbformat_minor": 0
}